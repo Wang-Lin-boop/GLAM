{
 "cells": [
  {
   "cell_type": "markdown",
   "metadata": {},
   "source": [
    "# 1 Load graph data"
   ]
  },
  {
   "cell_type": "code",
   "execution_count": 26,
   "metadata": {},
   "outputs": [],
   "source": [
    "import numpy as np\n",
    "import matplotlib.pyplot as plt\n",
    "import pandas as pd\n",
    "\n",
    "from rdkit import Chem\n",
    "from rdkit.Chem import AllChem\n",
    "from rdkit.Chem import Descriptors\n",
    "import warnings; warnings.filterwarnings('ignore')\n",
    "from rdkit import RDLogger\n",
    "RDLogger.DisableLog('rdApp.*')\n",
    "\n",
    "from sklearn.metrics import r2_score, mean_squared_error, mean_absolute_error\n",
    "from sklearn.model_selection import train_test_split\n",
    "from sklearn.ensemble import RandomForestRegressor\n",
    "from sklearn.neural_network import MLPRegressor\n",
    "from sklearn.svm import SVR"
   ]
  },
  {
   "cell_type": "code",
   "execution_count": 27,
   "metadata": {},
   "outputs": [],
   "source": [
    "data = pd.read_csv(\"../../smiles_list/GLAM-GP/raw/physprop.csv\")\n",
    "# Filter for validated resultsdata_logp = data[data.Status == \"Validated\"]print(\"Shape:\", data_logp.shape)data_logp.head()"
   ]
  },
  {
   "cell_type": "code",
   "execution_count": 28,
   "metadata": {},
   "outputs": [
    {
     "name": "stdout",
     "output_type": "stream",
     "text": [
      "Shape: (14176, 5)\n"
     ]
    },
    {
     "data": {
      "text/html": [
       "<div>\n",
       "<style scoped>\n",
       "    .dataframe tbody tr th:only-of-type {\n",
       "        vertical-align: middle;\n",
       "    }\n",
       "\n",
       "    .dataframe tbody tr th {\n",
       "        vertical-align: top;\n",
       "    }\n",
       "\n",
       "    .dataframe thead th {\n",
       "        text-align: right;\n",
       "    }\n",
       "</style>\n",
       "<table border=\"1\" class=\"dataframe\">\n",
       "  <thead>\n",
       "    <tr style=\"text-align: right;\">\n",
       "      <th></th>\n",
       "      <th>Unnamed: 0</th>\n",
       "      <th>SMILES</th>\n",
       "      <th>LogP</th>\n",
       "      <th>LogP rdkit</th>\n",
       "      <th>label</th>\n",
       "    </tr>\n",
       "  </thead>\n",
       "  <tbody>\n",
       "    <tr>\n",
       "      <th>0</th>\n",
       "      <td>1075</td>\n",
       "      <td>Nc1cccc(N)c1</td>\n",
       "      <td>-0.33</td>\n",
       "      <td>0.8510</td>\n",
       "      <td>train</td>\n",
       "    </tr>\n",
       "    <tr>\n",
       "      <th>1</th>\n",
       "      <td>7728</td>\n",
       "      <td>CC(C)(SC(=O)N1CCCCC1)c1ccccc1</td>\n",
       "      <td>4.02</td>\n",
       "      <td>4.2608</td>\n",
       "      <td>train</td>\n",
       "    </tr>\n",
       "    <tr>\n",
       "      <th>2</th>\n",
       "      <td>8146</td>\n",
       "      <td>CCC(C)c1nnc(N)o1</td>\n",
       "      <td>0.62</td>\n",
       "      <td>1.1653</td>\n",
       "      <td>train</td>\n",
       "    </tr>\n",
       "    <tr>\n",
       "      <th>3</th>\n",
       "      <td>11765</td>\n",
       "      <td>CCCCCCCCCC1(c2ccncc2)CCC(=O)NC1=O</td>\n",
       "      <td>4.64</td>\n",
       "      <td>3.8967</td>\n",
       "      <td>train</td>\n",
       "    </tr>\n",
       "    <tr>\n",
       "      <th>4</th>\n",
       "      <td>6513</td>\n",
       "      <td>CCNc1nc(NCC)[nH]c(=O)n1</td>\n",
       "      <td>2.29</td>\n",
       "      <td>0.0285</td>\n",
       "      <td>train</td>\n",
       "    </tr>\n",
       "  </tbody>\n",
       "</table>\n",
       "</div>"
      ],
      "text/plain": [
       "   Unnamed: 0                             SMILES  LogP  LogP rdkit  label\n",
       "0        1075                       Nc1cccc(N)c1 -0.33      0.8510  train\n",
       "1        7728      CC(C)(SC(=O)N1CCCCC1)c1ccccc1  4.02      4.2608  train\n",
       "2        8146                   CCC(C)c1nnc(N)o1  0.62      1.1653  train\n",
       "3       11765  CCCCCCCCCC1(c2ccncc2)CCC(=O)NC1=O  4.64      3.8967  train\n",
       "4        6513            CCNc1nc(NCC)[nH]c(=O)n1  2.29      0.0285  train"
      ]
     },
     "execution_count": 28,
     "metadata": {},
     "output_type": "execute_result"
    }
   ],
   "source": [
    "data_logp=data\n",
    "print(\"Shape:\", data_logp.shape)\n",
    "data_logp.head()"
   ]
  },
  {
   "cell_type": "code",
   "execution_count": 29,
   "metadata": {},
   "outputs": [],
   "source": [
    "molecules = data_logp.SMILES.apply(Chem.MolFromSmiles)\n",
    "data_logp.loc[:, 'fps'] = molecules.apply(RDKFingerprint)\n",
    "# data_logp = "
   ]
  },
  {
   "cell_type": "code",
   "execution_count": 30,
   "metadata": {},
   "outputs": [
    {
     "data": {
      "text/html": [
       "<div>\n",
       "<style scoped>\n",
       "    .dataframe tbody tr th:only-of-type {\n",
       "        vertical-align: middle;\n",
       "    }\n",
       "\n",
       "    .dataframe tbody tr th {\n",
       "        vertical-align: top;\n",
       "    }\n",
       "\n",
       "    .dataframe thead th {\n",
       "        text-align: right;\n",
       "    }\n",
       "</style>\n",
       "<table border=\"1\" class=\"dataframe\">\n",
       "  <thead>\n",
       "    <tr style=\"text-align: right;\">\n",
       "      <th></th>\n",
       "      <th>Unnamed: 0</th>\n",
       "      <th>SMILES</th>\n",
       "      <th>LogP</th>\n",
       "      <th>LogP rdkit</th>\n",
       "      <th>label</th>\n",
       "      <th>fps</th>\n",
       "    </tr>\n",
       "  </thead>\n",
       "  <tbody>\n",
       "    <tr>\n",
       "      <th>0</th>\n",
       "      <td>1075</td>\n",
       "      <td>Nc1cccc(N)c1</td>\n",
       "      <td>-0.33</td>\n",
       "      <td>0.8510</td>\n",
       "      <td>train</td>\n",
       "      <td>[0, 0, 0, 0, 0, 0, 0, 0, 0, 0, 0, 0, 0, 0, 0, ...</td>\n",
       "    </tr>\n",
       "    <tr>\n",
       "      <th>1</th>\n",
       "      <td>7728</td>\n",
       "      <td>CC(C)(SC(=O)N1CCCCC1)c1ccccc1</td>\n",
       "      <td>4.02</td>\n",
       "      <td>4.2608</td>\n",
       "      <td>train</td>\n",
       "      <td>[1, 0, 1, 1, 0, 0, 0, 0, 0, 1, 0, 1, 0, 0, 0, ...</td>\n",
       "    </tr>\n",
       "    <tr>\n",
       "      <th>2</th>\n",
       "      <td>8146</td>\n",
       "      <td>CCC(C)c1nnc(N)o1</td>\n",
       "      <td>0.62</td>\n",
       "      <td>1.1653</td>\n",
       "      <td>train</td>\n",
       "      <td>[0, 0, 1, 0, 0, 0, 0, 0, 0, 0, 0, 0, 0, 0, 1, ...</td>\n",
       "    </tr>\n",
       "    <tr>\n",
       "      <th>3</th>\n",
       "      <td>11765</td>\n",
       "      <td>CCCCCCCCCC1(c2ccncc2)CCC(=O)NC1=O</td>\n",
       "      <td>4.64</td>\n",
       "      <td>3.8967</td>\n",
       "      <td>train</td>\n",
       "      <td>[1, 0, 0, 0, 1, 1, 0, 1, 0, 1, 0, 1, 0, 0, 0, ...</td>\n",
       "    </tr>\n",
       "    <tr>\n",
       "      <th>4</th>\n",
       "      <td>6513</td>\n",
       "      <td>CCNc1nc(NCC)[nH]c(=O)n1</td>\n",
       "      <td>2.29</td>\n",
       "      <td>0.0285</td>\n",
       "      <td>train</td>\n",
       "      <td>[0, 0, 0, 0, 1, 1, 0, 0, 0, 0, 0, 0, 1, 0, 0, ...</td>\n",
       "    </tr>\n",
       "  </tbody>\n",
       "</table>\n",
       "</div>"
      ],
      "text/plain": [
       "   Unnamed: 0                             SMILES  LogP  LogP rdkit  label  \\\n",
       "0        1075                       Nc1cccc(N)c1 -0.33      0.8510  train   \n",
       "1        7728      CC(C)(SC(=O)N1CCCCC1)c1ccccc1  4.02      4.2608  train   \n",
       "2        8146                   CCC(C)c1nnc(N)o1  0.62      1.1653  train   \n",
       "3       11765  CCCCCCCCCC1(c2ccncc2)CCC(=O)NC1=O  4.64      3.8967  train   \n",
       "4        6513            CCNc1nc(NCC)[nH]c(=O)n1  2.29      0.0285  train   \n",
       "\n",
       "                                                 fps  \n",
       "0  [0, 0, 0, 0, 0, 0, 0, 0, 0, 0, 0, 0, 0, 0, 0, ...  \n",
       "1  [1, 0, 1, 1, 0, 0, 0, 0, 0, 1, 0, 1, 0, 0, 0, ...  \n",
       "2  [0, 0, 1, 0, 0, 0, 0, 0, 0, 0, 0, 0, 0, 0, 1, ...  \n",
       "3  [1, 0, 0, 0, 1, 1, 0, 1, 0, 1, 0, 1, 0, 0, 0, ...  \n",
       "4  [0, 0, 0, 0, 1, 1, 0, 0, 0, 0, 0, 0, 1, 0, 0, ...  "
      ]
     },
     "execution_count": 30,
     "metadata": {},
     "output_type": "execute_result"
    }
   ],
   "source": [
    "data_logp.head()"
   ]
  },
  {
   "cell_type": "code",
   "execution_count": 63,
   "metadata": {},
   "outputs": [
    {
     "data": {
      "image/png": "[encoded data removed]",
      "text/plain": [
       "<Figure size 432x288 with 1 Axes>"
      ]
     },
     "metadata": {
      "needs_background": "light"
     },
     "output_type": "display_data"
    }
   ],
   "source": [
    "r2 = r2_score(data_logp.LogP, data_logp.loc[:, 'LogP rdkit'])\n",
    "mse = mean_squared_error(data_logp.LogP, data_logp.loc[:, 'LogP rdkit'])\n",
    "plt.scatter(data_logp.LogP, data_logp.loc[:, 'LogP rdkit'],\n",
    "            label = \"MSE: {:.3f}\\nR^2: {:.3f}\".format(mse, r2))\n",
    "plt.legend()\n",
    "plt.show()"
   ]
  },
  {
   "cell_type": "code",
   "execution_count": 32,
   "metadata": {},
   "outputs": [
    {
     "data": {
      "text/plain": [
       "0.8959027634491825"
      ]
     },
     "execution_count": 32,
     "metadata": {},
     "output_type": "execute_result"
    }
   ],
   "source": [
    "mse**0.5"
   ]
  },
  {
   "cell_type": "markdown",
   "metadata": {},
   "source": [
    "# 2. Permute"
   ]
  },
  {
   "cell_type": "code",
   "execution_count": 33,
   "metadata": {},
   "outputs": [],
   "source": [
    "from tqdm import tqdm\n",
    "#from crem.crem import perturb_mol\n",
    "from rdkit import Chem\n",
    "from rdkit.Chem import RDKFingerprint\n",
    "from rdkit.DataStructs import FingerprintSimilarity"
   ]
  },
  {
   "cell_type": "code",
   "execution_count": 36,
   "metadata": {},
   "outputs": [],
   "source": [
    "datapoints={1:[], 2:[], 3:[]} # level 1, 2, 3\n",
    "simi_lower_uppers = {1:[0.8, 1.0], 2:[0.5,0.8], 3:[0.3, 0.5]}\n",
    "thre = 0.2"
   ]
  },
  {
   "cell_type": "code",
   "execution_count": 38,
   "metadata": {},
   "outputs": [],
   "source": [
    "def judge_add_ideal_perturb(smi, logp, fps, smi_perturbed, logp_perturbed, fps_perturbed):\n",
    "    simi = FingerprintSimilarity(fps, fps_perturbed)\n",
    "    for level in [1, 2, 3]:\n",
    "        lower, uppper = simi_lower_uppers[level]\n",
    "        if lower <= simi < uppper and np.abs(logp_perturbed-logp) < thre:  # abs(x-y) = mae(x, y) = rmse(x, y)\n",
    "            datapoints[level].append([smi, logp, smi_perturbed, logp_perturbed, simi])"
   ]
  },
  {
   "cell_type": "code",
   "execution_count": null,
   "metadata": {},
   "outputs": [],
   "source": [
    "# 4 hrs\n",
    "for i in tqdm(range(len(data_logp))):\n",
    "    item1 = data_logp.iloc[i,:]\n",
    "    for j in range(len(data_logp)):\n",
    "        if j==i: continue\n",
    "        item2 = data_logp.iloc[j,:]\n",
    "        judge_add_ideal_perturb(item1['SMILES'], item1['LogP'], item1['fps'], item2['SMILES'], item2['LogP'],  item2['fps'])\n",
    "    print(\"level1:{}, level2:{}, level3:{}\".format(len(datapoints[1]),len(datapoints[2]),len(datapoints[3])))"
   ]
  },
  {
   "cell_type": "code",
   "execution_count": 41,
   "metadata": {},
   "outputs": [],
   "source": [
    "import torch\n",
    "# torch.save(datapoints, './datapoints.pt')"
   ]
  },
  {
   "cell_type": "markdown",
   "metadata": {},
   "source": [
    "# 3. Unique"
   ]
  },
  {
   "cell_type": "code",
   "execution_count": 48,
   "metadata": {},
   "outputs": [],
   "source": [
    "# datapoints_unique = {1:[], 2:[], 3:[]}\n",
    "# def unique(level=1):\n",
    "#     traveled_smiles = []\n",
    "#     for smi, logp, smi_perturbed, logp_perturbed, simi in datapoints[level]:\n",
    "#         if smi not in traveled_smiles:\n",
    "#             traveled_smiles.append(smi)\n",
    "#             datapoints_unique[level].append([smi, logp, smi_perturbed, logp_perturbed, simi])\n",
    "# unique(1)\n",
    "# unique(2)\n",
    "# unique(3)\n",
    "# [len(datapoints_unique[i]) for i in [1,2,3]]  # [4240, 9610, 12700]"
   ]
  },
  {
   "cell_type": "code",
   "execution_count": 69,
   "metadata": {},
   "outputs": [],
   "source": [
    "def unique(datapoints):\n",
    "    datapoints_unique = {}\n",
    "    traveled_smiles = []\n",
    "    _1 = [item[0] for item in datapoints[1]]\n",
    "    _2 = [item[0] for item in datapoints[2]]\n",
    "    _3 = [item[0] for item in datapoints[3]]\n",
    "    for smi, logp, smi_perturbed, logp_perturbed, simi in datapoints[1]:\n",
    "        if (smi not in traveled_smiles) and (smi in _1) and (smi in _2) and (smi in _3):\n",
    "            traveled_smiles.append(smi)\n",
    "            datapoints_unique[smi] = [logp, smi_perturbed, logp_perturbed, simi]\n",
    "    return datapoints_unique\n",
    "datapoints_unique = unique(datapoints)"
   ]
  },
  {
   "cell_type": "code",
   "execution_count": 70,
   "metadata": {},
   "outputs": [
    {
     "data": {
      "text/plain": [
       "3264"
      ]
     },
     "execution_count": 70,
     "metadata": {},
     "output_type": "execute_result"
    }
   ],
   "source": [
    "len(datapoints_unique)"
   ]
  },
  {
   "cell_type": "code",
   "execution_count": 76,
   "metadata": {},
   "outputs": [
    {
     "data": {
      "text/plain": [
       "3264"
      ]
     },
     "execution_count": 76,
     "metadata": {},
     "output_type": "execute_result"
    }
   ],
   "source": [
    "def add_perturbed_level23(datapoints_add1):\n",
    "    all_smiles = datapoints_add1.keys()\n",
    "    \n",
    "    datapoints_add2 = {}\n",
    "    traveled_smiles = []\n",
    "    for smi, logp, smi_perturbed, logp_perturbed, simi in datapoints[2]:\n",
    "        if (smi not in traveled_smiles) and (smi in all_smiles):\n",
    "            traveled_smiles.append(smi)\n",
    "            item = datapoints_add1[smi]\n",
    "            datapoints_add2[smi] = item+[smi_perturbed, logp_perturbed, simi]\n",
    "\n",
    "    datapoints_add3 = {}\n",
    "    traveled_smiles = []\n",
    "    for smi, logp, smi_perturbed, logp_perturbed, simi in datapoints[3]:\n",
    "        if (smi not in traveled_smiles) and (smi in all_smiles):\n",
    "            traveled_smiles.append(smi)\n",
    "            item = datapoints_add2[smi]\n",
    "            datapoints_add3[smi] = item+[smi_perturbed, logp_perturbed, simi]\n",
    "    \n",
    "    return datapoints_add3\n",
    "datapoints_add3 = add_perturbed_level23(datapoints_unique)\n",
    "len(datapoints_add3)"
   ]
  },
  {
   "cell_type": "code",
   "execution_count": 77,
   "metadata": {},
   "outputs": [
    {
     "data": {
      "text/plain": [
       "[1.6,\n",
       " 'CCOc1cccc(OC(=O)NC)c1',\n",
       " 1.75,\n",
       " 0.8041666666666667,\n",
       " 'CN(C)C(=O)Oc1ccc([N+](=O)[O-])cc1',\n",
       " 1.5,\n",
       " 0.5167173252279635,\n",
       " 'COc1cccc(OC)c1OC',\n",
       " 1.53,\n",
       " 0.39615384615384613]"
      ]
     },
     "execution_count": 77,
     "metadata": {},
     "output_type": "execute_result"
    }
   ],
   "source": [
    "datapoints_add3['COc1cccc(OC(=O)N(C)C)c1']"
   ]
  },
  {
   "cell_type": "markdown",
   "metadata": {},
   "source": [
    "# 4. Split"
   ]
  },
  {
   "cell_type": "code",
   "execution_count": 201,
   "metadata": {},
   "outputs": [],
   "source": [
    "from itertools import compress\n",
    "import numpy as np\n",
    "from collections import defaultdict\n",
    "import random\n",
    "from utils import generate_scaffold\n",
    "def random_scaffold_split(smiles_list, frac_train=0.8, frac_valid=0.1, frac_test=0.1, seed=0):\n",
    "    np.testing.assert_almost_equal(frac_train + frac_valid + frac_test, 1.0)\n",
    "    non_null = np.ones(len(smiles_list)) == 1\n",
    "    smiles_list = list(compress(enumerate(smiles_list), non_null))\n",
    "\n",
    "    rng = np.random.RandomState(seed)\n",
    "\n",
    "    scaffolds = defaultdict(list)\n",
    "    for ind, smiles in smiles_list:\n",
    "        try:\n",
    "            scaffold = generate_scaffold(smiles, include_chirality=True)\n",
    "        except:\n",
    "            continue\n",
    "        scaffolds[scaffold].append(ind)\n",
    "\n",
    "    scaffold_sets = rng.perperturb(list(scaffolds.values()))\n",
    "\n",
    "    n_total_valid = int(np.floor(frac_valid * len(smiles_list)))\n",
    "    n_total_test = int(np.floor(frac_test * len(smiles_list)))\n",
    "\n",
    "    train_idx = []\n",
    "    valid_idx = []\n",
    "    test_idx = []\n",
    "\n",
    "    for scaffold_set in scaffold_sets:\n",
    "        if len(valid_idx) + len(scaffold_set) <= n_total_valid:\n",
    "            valid_idx.extend(scaffold_set)\n",
    "        elif len(test_idx) + len(scaffold_set) <= n_total_test:\n",
    "            test_idx.extend(scaffold_set)\n",
    "        else:\n",
    "            train_idx.extend(scaffold_set)\n",
    "\n",
    "    train_smiles_list = [smiles_list[i][1] for i in train_idx]\n",
    "    valid_smiles_list = [smiles_list[i][1] for i in valid_idx]\n",
    "    test_smiles_list = [smiles_list[i][1] for i in test_idx]\n",
    "\n",
    "    return train_smiles_list, valid_smiles_list, test_smiles_list"
   ]
  },
  {
   "cell_type": "code",
   "execution_count": 202,
   "metadata": {},
   "outputs": [
    {
     "data": {
      "text/plain": [
       "(2362, 902, 0, 2362)"
      ]
     },
     "execution_count": 202,
     "metadata": {},
     "output_type": "execute_result"
    }
   ],
   "source": [
    "# split 3:1:1(:1:1:1)\n",
    "n_test = int(data_logp.shape[0]*1/6)\n",
    "_test_rate = n_test/len(datapoints_add3.keys())\n",
    "_1, _2, test_smi = random_scaffold_split(smiles_list=datapoints_add3.keys(), frac_train=1-_test_rate, frac_valid=0, frac_test=_test_rate)\n",
    "n_test, len(_1), len(_2), len(test_smi)"
   ]
  },
  {
   "cell_type": "code",
   "execution_count": 203,
   "metadata": {},
   "outputs": [],
   "source": [
    "test = pd.DataFrame([datapoints_add3[smi] for smi in test_smi])\n",
    "test.insert(0, 'SMILES', test_smi)\n",
    "test.insert(0, 'Label', 'test') # ['test']*len(test_smi))\n",
    "test.columns = ['Label', 'SMILES','LogP', 'SMILES_1','LogP_1','Similrity_1','SMILES_2','LogP_2','Similrity_2', 'SMILES_3','LogP_3','Similrity_3',]"
   ]
  },
  {
   "cell_type": "code",
   "execution_count": 204,
   "metadata": {},
   "outputs": [
    {
     "data": {
      "text/plain": [
       "10246"
      ]
     },
     "execution_count": 204,
     "metadata": {},
     "output_type": "execute_result"
    }
   ],
   "source": [
    "train_val = {}\n",
    "# remove all datapoint in SMILES, SMILES1, SMILES2, SMILES3\n",
    "l1, l2, l3, l4 = test['SMILES'].to_list(),test['SMILES_1'].to_list(),test['SMILES_2'].to_list(),test['SMILES_3'].to_list()\n",
    "for i in range(data_logp.shape[0]):\n",
    "    smi = str(data_logp.iloc[i, :]['SMILES'])\n",
    "    if smi not in l1 and smi not in l2 and smi not in l3 and smi not in l4:\n",
    "        train_val[smi] = data_logp.iloc[i, :].to_list()\n",
    "len(train_val)"
   ]
  },
  {
   "cell_type": "code",
   "execution_count": 214,
   "metadata": {},
   "outputs": [
    {
     "data": {
      "text/plain": [
       "(7684, 2561, 0)"
      ]
     },
     "execution_count": 214,
     "metadata": {},
     "output_type": "execute_result"
    }
   ],
   "source": [
    "# split 3:1:1(:1:1:1)\n",
    "train_smi, valid_smi, _ = random_scaffold_split(smiles_list=list(train_val.keys()), frac_train=0.75, frac_valid=0.25, frac_test=0)\n",
    "len(train_smi), len(valid_smi), len(_)"
   ]
  },
  {
   "cell_type": "code",
   "execution_count": 222,
   "metadata": {},
   "outputs": [],
   "source": [
    "train = pd.DataFrame([train_val[smi] for smi in train_smi])\n",
    "train = train.iloc[:, [1,2]]\n",
    "train.insert(0, 'Label', 'train') # ['test']*len(test_smi))\n",
    "train.columns = ['Label', 'SMILES','LogP']"
   ]
  },
  {
   "cell_type": "code",
   "execution_count": 223,
   "metadata": {},
   "outputs": [],
   "source": [
    "valid = pd.DataFrame([train_val[smi] for smi in valid_smi])\n",
    "valid = valid.iloc[:, [1,2]]\n",
    "valid.insert(0, 'Label', 'val') # ['test']*len(test_smi))\n",
    "valid.columns = ['Label', 'SMILES','LogP']"
   ]
  },
  {
   "cell_type": "code",
   "execution_count": 224,
   "metadata": {},
   "outputs": [
    {
     "data": {
      "text/plain": [
       "[7684, 2561, 2362]"
      ]
     },
     "execution_count": 224,
     "metadata": {},
     "output_type": "execute_result"
    }
   ],
   "source": [
    "[len(x) for x in [train, valid, test]]"
   ]
  },
  {
   "cell_type": "code",
   "execution_count": 238,
   "metadata": {},
   "outputs": [],
   "source": [
    "physprop_perturbed = pd.concat([train, valid, test], keys='Label')"
   ]
  },
  {
   "cell_type": "code",
   "execution_count": 239,
   "metadata": {},
   "outputs": [],
   "source": [
    "root_path = '../../Dataset/GLAM-GP'\n",
    "physprop_perturbed.to_csv(root_path+\"/raw/physprop_perturb.csv\")"
   ]
  }
 ],
 "metadata": {
  "kernelspec": {
   "display_name": "Python 3 (ipykernel)",
   "language": "python",
   "name": "python3"
  },
  "language_info": {
   "codemirror_mode": {
    "name": "ipython",
    "version": 3
   },
   "file_extension": ".py",
   "mimetype": "text/x-python",
   "name": "python",
   "nbconvert_exporter": "python",
   "pygments_lexer": "ipython3",
   "version": "3.8.8"
  }
 },
 "nbformat": 4,
 "nbformat_minor": 4
}
