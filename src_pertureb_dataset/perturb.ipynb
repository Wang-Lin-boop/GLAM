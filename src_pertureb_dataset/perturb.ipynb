{
 "cells": [
  {
   "cell_type": "markdown",
   "metadata": {},
   "source": [
    "# 1 Load graph data"
   ]
  },
  {
   "cell_type": "code",
   "execution_count": 1,
   "metadata": {},
   "outputs": [],
   "source": [
    "import numpy as np\n",
    "import matplotlib.pyplot as plt\n",
    "import pandas as pd\n",
    "\n",
    "from rdkit import Chem\n",
    "from rdkit.Chem import AllChem\n",
    "from rdkit.Chem import Descriptors\n",
    "import warnings; warnings.filterwarnings('ignore')\n",
    "from rdkit import RDLogger\n",
    "RDLogger.DisableLog('rdApp.*')\n",
    "\n",
    "from sklearn.metrics import r2_score, mean_squared_error, mean_absolute_error\n",
    "from sklearn.model_selection import train_test_split\n",
    "from sklearn.ensemble import RandomForestRegressor\n",
    "from sklearn.neural_network import MLPRegressor\n",
    "from sklearn.svm import SVR"
   ]
  },
  {
   "cell_type": "code",
   "execution_count": 2,
   "metadata": {},
   "outputs": [],
   "source": [
    "data = pd.read_csv(\"../../Dataset/GLAM-GP/raw/physprop.csv\")\n",
    "# Filter for validated resultsdata_logp = data[data.Status == \"Validated\"]print(\"Shape:\", data_logp.shape)data_logp.head()"
   ]
  },
  {
   "cell_type": "code",
   "execution_count": 3,
   "metadata": {},
   "outputs": [
    {
     "name": "stdout",
     "output_type": "stream",
     "text": [
      "Shape: (14176, 5)\n"
     ]
    },
    {
     "data": {
      "text/html": [
       "<div>\n",
       "<style scoped>\n",
       "    .dataframe tbody tr th:only-of-type {\n",
       "        vertical-align: middle;\n",
       "    }\n",
       "\n",
       "    .dataframe tbody tr th {\n",
       "        vertical-align: top;\n",
       "    }\n",
       "\n",
       "    .dataframe thead th {\n",
       "        text-align: right;\n",
       "    }\n",
       "</style>\n",
       "<table border=\"1\" class=\"dataframe\">\n",
       "  <thead>\n",
       "    <tr style=\"text-align: right;\">\n",
       "      <th></th>\n",
       "      <th>Unnamed: 0</th>\n",
       "      <th>SMILES</th>\n",
       "      <th>LogP</th>\n",
       "      <th>LogP rdkit</th>\n",
       "      <th>label</th>\n",
       "    </tr>\n",
       "  </thead>\n",
       "  <tbody>\n",
       "    <tr>\n",
       "      <th>0</th>\n",
       "      <td>1075</td>\n",
       "      <td>Nc1cccc(N)c1</td>\n",
       "      <td>-0.33</td>\n",
       "      <td>0.8510</td>\n",
       "      <td>train</td>\n",
       "    </tr>\n",
       "    <tr>\n",
       "      <th>1</th>\n",
       "      <td>7728</td>\n",
       "      <td>CC(C)(SC(=O)N1CCCCC1)c1ccccc1</td>\n",
       "      <td>4.02</td>\n",
       "      <td>4.2608</td>\n",
       "      <td>train</td>\n",
       "    </tr>\n",
       "    <tr>\n",
       "      <th>2</th>\n",
       "      <td>8146</td>\n",
       "      <td>CCC(C)c1nnc(N)o1</td>\n",
       "      <td>0.62</td>\n",
       "      <td>1.1653</td>\n",
       "      <td>train</td>\n",
       "    </tr>\n",
       "    <tr>\n",
       "      <th>3</th>\n",
       "      <td>11765</td>\n",
       "      <td>CCCCCCCCCC1(c2ccncc2)CCC(=O)NC1=O</td>\n",
       "      <td>4.64</td>\n",
       "      <td>3.8967</td>\n",
       "      <td>train</td>\n",
       "    </tr>\n",
       "    <tr>\n",
       "      <th>4</th>\n",
       "      <td>6513</td>\n",
       "      <td>CCNc1nc(NCC)[nH]c(=O)n1</td>\n",
       "      <td>2.29</td>\n",
       "      <td>0.0285</td>\n",
       "      <td>train</td>\n",
       "    </tr>\n",
       "  </tbody>\n",
       "</table>\n",
       "</div>"
      ],
      "text/plain": [
       "   Unnamed: 0                             SMILES  LogP  LogP rdkit  label\n",
       "0        1075                       Nc1cccc(N)c1 -0.33      0.8510  train\n",
       "1        7728      CC(C)(SC(=O)N1CCCCC1)c1ccccc1  4.02      4.2608  train\n",
       "2        8146                   CCC(C)c1nnc(N)o1  0.62      1.1653  train\n",
       "3       11765  CCCCCCCCCC1(c2ccncc2)CCC(=O)NC1=O  4.64      3.8967  train\n",
       "4        6513            CCNc1nc(NCC)[nH]c(=O)n1  2.29      0.0285  train"
      ]
     },
     "execution_count": 3,
     "metadata": {},
     "output_type": "execute_result"
    }
   ],
   "source": [
    "data_logp=data\n",
    "print(\"Shape:\", data_logp.shape)\n",
    "data_logp.head()"
   ]
  },
  {
   "cell_type": "code",
   "execution_count": 4,
   "metadata": {},
   "outputs": [],
   "source": [
    "molecules = data_logp.SMILES.apply(Chem.MolFromSmiles)\n",
    "data_logp.loc[:, 'LogP rdkit'] = molecules.apply(Descriptors.MolLogP)\n",
    "# data_logp = "
   ]
  },
  {
   "cell_type": "code",
   "execution_count": 5,
   "metadata": {},
   "outputs": [
    {
     "data": {
      "text/html": [
       "<div>\n",
       "<style scoped>\n",
       "    .dataframe tbody tr th:only-of-type {\n",
       "        vertical-align: middle;\n",
       "    }\n",
       "\n",
       "    .dataframe tbody tr th {\n",
       "        vertical-align: top;\n",
       "    }\n",
       "\n",
       "    .dataframe thead th {\n",
       "        text-align: right;\n",
       "    }\n",
       "</style>\n",
       "<table border=\"1\" class=\"dataframe\">\n",
       "  <thead>\n",
       "    <tr style=\"text-align: right;\">\n",
       "      <th></th>\n",
       "      <th>Unnamed: 0</th>\n",
       "      <th>SMILES</th>\n",
       "      <th>LogP</th>\n",
       "      <th>LogP rdkit</th>\n",
       "      <th>label</th>\n",
       "    </tr>\n",
       "  </thead>\n",
       "  <tbody>\n",
       "    <tr>\n",
       "      <th>0</th>\n",
       "      <td>1075</td>\n",
       "      <td>Nc1cccc(N)c1</td>\n",
       "      <td>-0.33</td>\n",
       "      <td>0.8510</td>\n",
       "      <td>train</td>\n",
       "    </tr>\n",
       "    <tr>\n",
       "      <th>1</th>\n",
       "      <td>7728</td>\n",
       "      <td>CC(C)(SC(=O)N1CCCCC1)c1ccccc1</td>\n",
       "      <td>4.02</td>\n",
       "      <td>4.2608</td>\n",
       "      <td>train</td>\n",
       "    </tr>\n",
       "    <tr>\n",
       "      <th>2</th>\n",
       "      <td>8146</td>\n",
       "      <td>CCC(C)c1nnc(N)o1</td>\n",
       "      <td>0.62</td>\n",
       "      <td>1.1653</td>\n",
       "      <td>train</td>\n",
       "    </tr>\n",
       "    <tr>\n",
       "      <th>3</th>\n",
       "      <td>11765</td>\n",
       "      <td>CCCCCCCCCC1(c2ccncc2)CCC(=O)NC1=O</td>\n",
       "      <td>4.64</td>\n",
       "      <td>3.8967</td>\n",
       "      <td>train</td>\n",
       "    </tr>\n",
       "    <tr>\n",
       "      <th>4</th>\n",
       "      <td>6513</td>\n",
       "      <td>CCNc1nc(NCC)[nH]c(=O)n1</td>\n",
       "      <td>2.29</td>\n",
       "      <td>0.0285</td>\n",
       "      <td>train</td>\n",
       "    </tr>\n",
       "  </tbody>\n",
       "</table>\n",
       "</div>"
      ],
      "text/plain": [
       "   Unnamed: 0                             SMILES  LogP  LogP rdkit  label\n",
       "0        1075                       Nc1cccc(N)c1 -0.33      0.8510  train\n",
       "1        7728      CC(C)(SC(=O)N1CCCCC1)c1ccccc1  4.02      4.2608  train\n",
       "2        8146                   CCC(C)c1nnc(N)o1  0.62      1.1653  train\n",
       "3       11765  CCCCCCCCCC1(c2ccncc2)CCC(=O)NC1=O  4.64      3.8967  train\n",
       "4        6513            CCNc1nc(NCC)[nH]c(=O)n1  2.29      0.0285  train"
      ]
     },
     "execution_count": 5,
     "metadata": {},
     "output_type": "execute_result"
    }
   ],
   "source": [
    "data_logp.head()"
   ]
  },
  {
   "cell_type": "code",
   "execution_count": 6,
   "metadata": {},
   "outputs": [
    {
     "data": {
      "image/png": "[encoded data removed]",
      "text/plain": [
       "<Figure size 432x288 with 1 Axes>"
      ]
     },
     "metadata": {
      "needs_background": "light"
     },
     "output_type": "display_data"
    }
   ],
   "source": [
    "\n",
    "r2 = r2_score(data_logp.LogP, data_logp.loc[:, 'LogP rdkit'])\n",
    "mse = mean_squared_error(data_logp.LogP, data_logp.loc[:, 'LogP rdkit'])\n",
    "plt.scatter(data_logp.LogP, data_logp.loc[:, 'LogP rdkit'],\n",
    "            label = \"MSE: {:.3f}\\nR^2: {:.3f}\".format(mse, r2))\n",
    "plt.legend()\n",
    "plt.show()"
   ]
  },
  {
   "cell_type": "code",
   "execution_count": 7,
   "metadata": {},
   "outputs": [
    {
     "data": {
      "text/plain": [
       "0.8959027634491825"
      ]
     },
     "execution_count": 7,
     "metadata": {},
     "output_type": "execute_result"
    }
   ],
   "source": [
    "mse**0.5"
   ]
  },
  {
   "cell_type": "markdown",
   "metadata": {},
   "source": [
    "# 2. Mutate"
   ]
  },
  {
   "cell_type": "code",
   "execution_count": 7,
   "metadata": {},
   "outputs": [],
   "source": [
    "from mutation import Configuration, Mutation\n",
    "from tqdm import tqdm\n",
    "\n",
    "#from crem.crem import mutate_mol\n",
    "from rdkit import Chem\n",
    "from rdkit.Chem import RDKFingerprint\n",
    "from rdkit.DataStructs import FingerprintSimilarity\n",
    "\n",
    "\n",
    "mutate_op = Mutation(Configuration(num_mutation_min=1, num_mutation_max=3))"
   ]
  },
  {
   "cell_type": "code",
   "execution_count": 8,
   "metadata": {},
   "outputs": [],
   "source": [
    "def generate_mutation(smi, real_logp, rdkit_logp, thre=0.2, simi_down=0.8, simi_up=1, func_fp=RDKFingerprint, max_iter=2000):\n",
    "    for i in range(max_iter):\n",
    "        try:\n",
    "            mutation = mutate_op.mutate(smi).smiles\n",
    "        except:\n",
    "            continue\n",
    "        fps = [func_fp(Chem.MolFromSmiles(x)) for x in [smi, mutation]]\n",
    "        simi = FingerprintSimilarity(fps[0], fps[1])\n",
    "        mutation_rdkit_logp = Descriptors.MolLogP(Chem.MolFromSmiles(mutation))\n",
    "        # print(smi, real_logp, rdkit_logp, mutation_rdkit_logp, np.abs(mutation_rdkit_logp-rdkit_logp)/rdkit_logp, thre)\n",
    "        if simi_down <= simi < simi_up and np.abs(mutation_rdkit_logp-rdkit_logp) < thre:  # abs(x-y) = mae(x, y) = rmse(x, y)\n",
    "            return mutation, simi, mutation_rdkit_logp\n",
    "    # print('Not found mutation of {}'.format(smi))\n",
    "    return None, None, None  # mutation not found"
   ]
  },
  {
   "cell_type": "code",
   "execution_count": 9,
   "metadata": {},
   "outputs": [
    {
     "data": {
      "text/plain": [
       "('NC1=CC(N)=CC(F)=C1', 0.5, 0.9901000000000002)"
      ]
     },
     "execution_count": 9,
     "metadata": {},
     "output_type": "execute_result"
    }
   ],
   "source": [
    "smi, real_logp, rdkit_logp = data_logp['SMILES'][0], data_logp['LogP'][0], data_logp['LogP rdkit'][0], \n",
    "generate_mutation(smi, real_logp, rdkit_logp, thre=0.2, simi_down=0.5, simi_up=0.8)"
   ]
  },
  {
   "cell_type": "code",
   "execution_count": 10,
   "metadata": {},
   "outputs": [],
   "source": [
    "for level in [1,2,3]:\n",
    "    data_logp['Mutation_level_{}'.format(level)], data_logp['Fingerprint_similrity_level_{}'.format(level)], data_logp['LogP_level_{}'.format(level)]=3*[None]"
   ]
  },
  {
   "cell_type": "code",
   "execution_count": null,
   "metadata": {},
   "outputs": [
    {
     "name": "stderr",
     "output_type": "stream",
     "text": [
      "  0%|          | 0/14176 [00:00<?, ?it/s]"
     ]
    },
    {
     "name": "stdout",
     "output_type": "stream",
     "text": [
      "ERROR! Session/line number was not unique in database. History logging moved to new session 12\n"
     ]
    }
   ],
   "source": [
    "# 32 hrs\n",
    "for i in tqdm(range(len(data_logp))):\n",
    "    item = data_logp.iloc[i,:]\n",
    "    smi, real_logp, rdkit_logp = item['SMILES'], item['LogP'], item['LogP rdkit']\n",
    "    down_ups = {1:[0.8, 1.0], 2:[0.5,0.8], 3:[0.3, 0.5]}\n",
    "    for level in [1,2,3]:\n",
    "        down, up = down_ups[level]\n",
    "        mu, simi, logp = generate_mutation(smi, real_logp, rdkit_logp, thre=0.1, simi_down=down, simi_up=up)\n",
    "        # print(i, level, mu, simi, logp, rdkit_logp)\n",
    "        data_logp.iloc[i, level*3-12] = mu     # 3:-3  2:-6   1:-9\n",
    "        data_logp.iloc[i, level*3-11] = simi   # -2  -5  -8\n",
    "        data_logp.iloc[i, level*3-10] = logp   # -1  -4  -7\n",
    "data_logp.to_csv('./physprop_mutate.csv')"
   ]
  },
  {
   "cell_type": "code",
   "execution_count": null,
   "metadata": {},
   "outputs": [],
   "source": [
    "# parallel version   will be faster? no\n",
    "from multiprocessing.dummy import Pool as ThreadPool \n",
    "pool = ThreadPool(16)\n",
    "import concurrent.futures\n",
    "\n",
    "def mutations(param):\n",
    "    i, smi, real_logp, rdkit_logp = param[0], param[1], param[2], param[3]\n",
    "    down_ups = {1:[0.8, 1.0], 2:[0.5,0.8], 3:[0.3, 0.5]}\n",
    "    for level in [1,2,3]:\n",
    "        down, up = down_ups[level]\n",
    "        mu, simi, logp = generate_mutation(smi, real_logp, rdkit_logp, thre=0.1, simi_down=down, simi_up=up)\n",
    "        # print(i, level, mu, simi, logp, rdkit_logp)\n",
    "        print(i, end='\\t')\n",
    "        data_logp.iloc[i, level*3-12] = mu     # 3:-3  2:-6   1:-9\n",
    "        data_logp.iloc[i, level*3-11] = simi   # -2  -5  -8\n",
    "        data_logp.iloc[i, level*3-10] = logp   # -1  -4  -7\n",
    "\n",
    "params = [(i, data_logp['SMILES'][i],data_logp['LogP'][i], data_logp['LogP rdkit'][i]) for i in range(len(data_logp))]\n",
    "pool.map(mutations, params)\n",
    "pool.close() \n",
    "pool.join() \n",
    "data_logp.to_csv('./physprop_mutate.csv')"
   ]
  },
  {
   "cell_type": "code",
   "execution_count": 13,
   "metadata": {},
   "outputs": [
    {
     "data": {
      "text/html": [
       "<div>\n",
       "<style scoped>\n",
       "    .dataframe tbody tr th:only-of-type {\n",
       "        vertical-align: middle;\n",
       "    }\n",
       "\n",
       "    .dataframe tbody tr th {\n",
       "        vertical-align: top;\n",
       "    }\n",
       "\n",
       "    .dataframe thead th {\n",
       "        text-align: right;\n",
       "    }\n",
       "</style>\n",
       "<table border=\"1\" class=\"dataframe\">\n",
       "  <thead>\n",
       "    <tr style=\"text-align: right;\">\n",
       "      <th></th>\n",
       "      <th>Unnamed: 0</th>\n",
       "      <th>SMILES</th>\n",
       "      <th>LogP</th>\n",
       "      <th>LogP rdkit</th>\n",
       "      <th>label</th>\n",
       "      <th>Mutation_level_1</th>\n",
       "      <th>Fingerprint_similrity_level_1</th>\n",
       "      <th>LogP_level_1</th>\n",
       "      <th>Mutation_level_2</th>\n",
       "      <th>Fingerprint_similrity_level_2</th>\n",
       "      <th>LogP_level_2</th>\n",
       "      <th>Mutation_level_3</th>\n",
       "      <th>Fingerprint_similrity_level_3</th>\n",
       "      <th>LogP_level_3</th>\n",
       "    </tr>\n",
       "  </thead>\n",
       "  <tbody>\n",
       "    <tr>\n",
       "      <th>0</th>\n",
       "      <td>1075</td>\n",
       "      <td>Nc1cccc(N)c1</td>\n",
       "      <td>-0.33</td>\n",
       "      <td>0.85100</td>\n",
       "      <td>train</td>\n",
       "      <td>None</td>\n",
       "      <td>None</td>\n",
       "      <td>None</td>\n",
       "      <td>None</td>\n",
       "      <td>None</td>\n",
       "      <td>None</td>\n",
       "      <td>NNC1=CC=CC(N)=C1S</td>\n",
       "      <td>0.319527</td>\n",
       "      <td>0.8431</td>\n",
       "    </tr>\n",
       "    <tr>\n",
       "      <th>1</th>\n",
       "      <td>7728</td>\n",
       "      <td>CC(C)(SC(=O)N1CCCCC1)c1ccccc1</td>\n",
       "      <td>4.02</td>\n",
       "      <td>4.26080</td>\n",
       "      <td>train</td>\n",
       "      <td>CC(C)(SC(=O)N1CCCSCC1)C1=CC=CC=C1</td>\n",
       "      <td>0.804124</td>\n",
       "      <td>4.2138</td>\n",
       "      <td>CC(C)(SC(=O)N1C=CC(F)CC1)C1=CC=CC=C1</td>\n",
       "      <td>0.657095</td>\n",
       "      <td>4.3324</td>\n",
       "      <td>O=C(SC(F)(Cl)C1=CC=CC=C1)N1CCCCC1</td>\n",
       "      <td>0.461049</td>\n",
       "      <td>4.3443</td>\n",
       "    </tr>\n",
       "    <tr>\n",
       "      <th>2</th>\n",
       "      <td>8146</td>\n",
       "      <td>CCC(C)c1nnc(N)o1</td>\n",
       "      <td>0.62</td>\n",
       "      <td>1.16530</td>\n",
       "      <td>train</td>\n",
       "      <td>CC(CCS)C1=NN=C(N)O1</td>\n",
       "      <td>0.885714</td>\n",
       "      <td>1.0752</td>\n",
       "      <td>CSCC(C)C1=NN=C(N)O1</td>\n",
       "      <td>0.561047</td>\n",
       "      <td>1.1183</td>\n",
       "      <td>NC1=NN=C(C(Cl)CCl)O1</td>\n",
       "      <td>0.421053</td>\n",
       "      <td>1.1705</td>\n",
       "    </tr>\n",
       "    <tr>\n",
       "      <th>3</th>\n",
       "      <td>11765</td>\n",
       "      <td>CCCCCCCCCC1(c2ccncc2)CCC(=O)NC1=O</td>\n",
       "      <td>4.64</td>\n",
       "      <td>3.89670</td>\n",
       "      <td>train</td>\n",
       "      <td>O=C1CCC(CCCCCCCCBr)(C2=CC=NC=C2)C(=O)N1</td>\n",
       "      <td>0.984351</td>\n",
       "      <td>3.8816</td>\n",
       "      <td>CCCCCCCCCC1(C2=CC=NC=C2)CC(F)NC(=O)NC1=O</td>\n",
       "      <td>0.609221</td>\n",
       "      <td>3.9852</td>\n",
       "      <td>CCC(C)CCCCCCC1(C2=CC=NCOC2)CCC(=O)CNC1=O</td>\n",
       "      <td>0.327902</td>\n",
       "      <td>3.8235</td>\n",
       "    </tr>\n",
       "    <tr>\n",
       "      <th>4</th>\n",
       "      <td>6513</td>\n",
       "      <td>CCNc1nc(NCC)[nH]c(=O)n1</td>\n",
       "      <td>2.29</td>\n",
       "      <td>0.02850</td>\n",
       "      <td>train</td>\n",
       "      <td>CCNC1=NC(NCCS)=NC(=O)N1</td>\n",
       "      <td>0.912442</td>\n",
       "      <td>-0.0616</td>\n",
       "      <td>C#CNC1=NC(=O)N(Cl)C(NCC)=N1</td>\n",
       "      <td>0.505102</td>\n",
       "      <td>0.0746</td>\n",
       "      <td>CC(Cl)NNC1=NC(NCF)=NC(=O)N1</td>\n",
       "      <td>0.463889</td>\n",
       "      <td>0.0051</td>\n",
       "    </tr>\n",
       "    <tr>\n",
       "      <th>...</th>\n",
       "      <td>...</td>\n",
       "      <td>...</td>\n",
       "      <td>...</td>\n",
       "      <td>...</td>\n",
       "      <td>...</td>\n",
       "      <td>...</td>\n",
       "      <td>...</td>\n",
       "      <td>...</td>\n",
       "      <td>...</td>\n",
       "      <td>...</td>\n",
       "      <td>...</td>\n",
       "      <td>...</td>\n",
       "      <td>...</td>\n",
       "      <td>...</td>\n",
       "    </tr>\n",
       "    <tr>\n",
       "      <th>14171</th>\n",
       "      <td>1940</td>\n",
       "      <td>c1cncc(C2CCCCN2)c1</td>\n",
       "      <td>0.97</td>\n",
       "      <td>1.89620</td>\n",
       "      <td>test</td>\n",
       "      <td>SC1CCC(C2=CC=CN=C2)NC1</td>\n",
       "      <td>0.83151</td>\n",
       "      <td>1.8045</td>\n",
       "      <td>C1=CN=CC(C2CCCCON2)=C1</td>\n",
       "      <td>0.545631</td>\n",
       "      <td>1.8278</td>\n",
       "      <td>C1=CN=CC(C2NCCCS2)=C1</td>\n",
       "      <td>0.348276</td>\n",
       "      <td>1.8067</td>\n",
       "    </tr>\n",
       "    <tr>\n",
       "      <th>14172</th>\n",
       "      <td>3228</td>\n",
       "      <td>NC(=O)c1cccc(S(N)(=O)=O)c1</td>\n",
       "      <td>-0.84</td>\n",
       "      <td>-0.56710</td>\n",
       "      <td>test</td>\n",
       "      <td>NS(=O)(=O)C1=CC(C(=O)NO)=CC=C1</td>\n",
       "      <td>0.895561</td>\n",
       "      <td>-0.547</td>\n",
       "      <td>NOC(=O)C1=CC=CC(S(N)(=O)=O)=C1</td>\n",
       "      <td>0.612975</td>\n",
       "      <td>-0.6355</td>\n",
       "      <td>NC(F)(OO)C1=CC=CC([SH](N)(=O)NO)=C1</td>\n",
       "      <td>0.393846</td>\n",
       "      <td>-0.6422</td>\n",
       "    </tr>\n",
       "    <tr>\n",
       "      <th>14173</th>\n",
       "      <td>2415</td>\n",
       "      <td>Cc1ccc(-c2ccc(C)cc2)cc1</td>\n",
       "      <td>5.09</td>\n",
       "      <td>3.97044</td>\n",
       "      <td>test</td>\n",
       "      <td>None</td>\n",
       "      <td>None</td>\n",
       "      <td>None</td>\n",
       "      <td>CC1=CC=C(C2=CC=C(OS)C=C2)C=C1</td>\n",
       "      <td>0.606218</td>\n",
       "      <td>3.88562</td>\n",
       "      <td>CC1=C(N)C=CC(C2=CC=C(Cl)C=C2)=C1</td>\n",
       "      <td>0.405904</td>\n",
       "      <td>3.89762</td>\n",
       "    </tr>\n",
       "    <tr>\n",
       "      <th>14174</th>\n",
       "      <td>11161</td>\n",
       "      <td>N#Cc1ccc(C[Se]CCC(=O)O)cc1</td>\n",
       "      <td>1.37</td>\n",
       "      <td>1.65548</td>\n",
       "      <td>test</td>\n",
       "      <td>None</td>\n",
       "      <td>None</td>\n",
       "      <td>None</td>\n",
       "      <td>None</td>\n",
       "      <td>None</td>\n",
       "      <td>None</td>\n",
       "      <td>None</td>\n",
       "      <td>None</td>\n",
       "      <td>None</td>\n",
       "    </tr>\n",
       "    <tr>\n",
       "      <th>14175</th>\n",
       "      <td>2619</td>\n",
       "      <td>BrCCCc1ccccc1</td>\n",
       "      <td>3.72</td>\n",
       "      <td>3.01410</td>\n",
       "      <td>test</td>\n",
       "      <td>None</td>\n",
       "      <td>None</td>\n",
       "      <td>None</td>\n",
       "      <td>BrOCCCC1=CC=CC=C1</td>\n",
       "      <td>0.628788</td>\n",
       "      <td>2.9457</td>\n",
       "      <td>ClC1=CC(CCCONBr)=CC=C1</td>\n",
       "      <td>0.400966</td>\n",
       "      <td>3.1037</td>\n",
       "    </tr>\n",
       "  </tbody>\n",
       "</table>\n",
       "<p>14176 rows × 14 columns</p>\n",
       "</div>"
      ],
      "text/plain": [
       "       Unnamed: 0                             SMILES  LogP  LogP rdkit  label  \\\n",
       "0            1075                       Nc1cccc(N)c1 -0.33     0.85100  train   \n",
       "1            7728      CC(C)(SC(=O)N1CCCCC1)c1ccccc1  4.02     4.26080  train   \n",
       "2            8146                   CCC(C)c1nnc(N)o1  0.62     1.16530  train   \n",
       "3           11765  CCCCCCCCCC1(c2ccncc2)CCC(=O)NC1=O  4.64     3.89670  train   \n",
       "4            6513            CCNc1nc(NCC)[nH]c(=O)n1  2.29     0.02850  train   \n",
       "...           ...                                ...   ...         ...    ...   \n",
       "14171        1940                 c1cncc(C2CCCCN2)c1  0.97     1.89620   test   \n",
       "14172        3228         NC(=O)c1cccc(S(N)(=O)=O)c1 -0.84    -0.56710   test   \n",
       "14173        2415            Cc1ccc(-c2ccc(C)cc2)cc1  5.09     3.97044   test   \n",
       "14174       11161         N#Cc1ccc(C[Se]CCC(=O)O)cc1  1.37     1.65548   test   \n",
       "14175        2619                      BrCCCc1ccccc1  3.72     3.01410   test   \n",
       "\n",
       "                              Mutation_level_1 Fingerprint_similrity_level_1  \\\n",
       "0                                         None                          None   \n",
       "1            CC(C)(SC(=O)N1CCCSCC1)C1=CC=CC=C1                      0.804124   \n",
       "2                          CC(CCS)C1=NN=C(N)O1                      0.885714   \n",
       "3      O=C1CCC(CCCCCCCCBr)(C2=CC=NC=C2)C(=O)N1                      0.984351   \n",
       "4                      CCNC1=NC(NCCS)=NC(=O)N1                      0.912442   \n",
       "...                                        ...                           ...   \n",
       "14171                   SC1CCC(C2=CC=CN=C2)NC1                       0.83151   \n",
       "14172           NS(=O)(=O)C1=CC(C(=O)NO)=CC=C1                      0.895561   \n",
       "14173                                     None                          None   \n",
       "14174                                     None                          None   \n",
       "14175                                     None                          None   \n",
       "\n",
       "      LogP_level_1                          Mutation_level_2  \\\n",
       "0             None                                      None   \n",
       "1           4.2138      CC(C)(SC(=O)N1C=CC(F)CC1)C1=CC=CC=C1   \n",
       "2           1.0752                       CSCC(C)C1=NN=C(N)O1   \n",
       "3           3.8816  CCCCCCCCCC1(C2=CC=NC=C2)CC(F)NC(=O)NC1=O   \n",
       "4          -0.0616               C#CNC1=NC(=O)N(Cl)C(NCC)=N1   \n",
       "...            ...                                       ...   \n",
       "14171       1.8045                    C1=CN=CC(C2CCCCON2)=C1   \n",
       "14172       -0.547            NOC(=O)C1=CC=CC(S(N)(=O)=O)=C1   \n",
       "14173         None             CC1=CC=C(C2=CC=C(OS)C=C2)C=C1   \n",
       "14174         None                                      None   \n",
       "14175         None                         BrOCCCC1=CC=CC=C1   \n",
       "\n",
       "      Fingerprint_similrity_level_2 LogP_level_2  \\\n",
       "0                              None         None   \n",
       "1                          0.657095       4.3324   \n",
       "2                          0.561047       1.1183   \n",
       "3                          0.609221       3.9852   \n",
       "4                          0.505102       0.0746   \n",
       "...                             ...          ...   \n",
       "14171                      0.545631       1.8278   \n",
       "14172                      0.612975      -0.6355   \n",
       "14173                      0.606218      3.88562   \n",
       "14174                          None         None   \n",
       "14175                      0.628788       2.9457   \n",
       "\n",
       "                               Mutation_level_3 Fingerprint_similrity_level_3  \\\n",
       "0                             NNC1=CC=CC(N)=C1S                      0.319527   \n",
       "1             O=C(SC(F)(Cl)C1=CC=CC=C1)N1CCCCC1                      0.461049   \n",
       "2                          NC1=NN=C(C(Cl)CCl)O1                      0.421053   \n",
       "3      CCC(C)CCCCCCC1(C2=CC=NCOC2)CCC(=O)CNC1=O                      0.327902   \n",
       "4                   CC(Cl)NNC1=NC(NCF)=NC(=O)N1                      0.463889   \n",
       "...                                         ...                           ...   \n",
       "14171                     C1=CN=CC(C2NCCCS2)=C1                      0.348276   \n",
       "14172       NC(F)(OO)C1=CC=CC([SH](N)(=O)NO)=C1                      0.393846   \n",
       "14173          CC1=C(N)C=CC(C2=CC=C(Cl)C=C2)=C1                      0.405904   \n",
       "14174                                      None                          None   \n",
       "14175                    ClC1=CC(CCCONBr)=CC=C1                      0.400966   \n",
       "\n",
       "      LogP_level_3  \n",
       "0           0.8431  \n",
       "1           4.3443  \n",
       "2           1.1705  \n",
       "3           3.8235  \n",
       "4           0.0051  \n",
       "...            ...  \n",
       "14171       1.8067  \n",
       "14172      -0.6422  \n",
       "14173      3.89762  \n",
       "14174         None  \n",
       "14175       3.1037  \n",
       "\n",
       "[14176 rows x 14 columns]"
      ]
     },
     "execution_count": 13,
     "metadata": {},
     "output_type": "execute_result"
    }
   ],
   "source": [
    "data_logp"
   ]
  },
  {
   "cell_type": "markdown",
   "metadata": {},
   "source": [
    "# 3. Split"
   ]
  },
  {
   "cell_type": "code",
   "execution_count": 25,
   "metadata": {},
   "outputs": [],
   "source": [
    "root_path = '../../../../Dataset/AutoGLM-DP/raw/'\n",
    "data = pd.read_csv(root_path+\"physprop_mutate.csv\")"
   ]
  },
  {
   "cell_type": "code",
   "execution_count": 18,
   "metadata": {},
   "outputs": [],
   "source": [
    "# df.sample(frac=1.0): 按100%的比例抽样即达到打乱数据的效果\n",
    "# np.split   (0, 0.6)  (0.6, 0.8)  (0.8, 1.0) \n",
    "train, val, test = np.split(data.sample(frac=1), [int(.6*len(data)), int(.8*len(data))])"
   ]
  },
  {
   "cell_type": "code",
   "execution_count": 19,
   "metadata": {},
   "outputs": [],
   "source": [
    "train['label'] = 'train'\n",
    "val['label'] = 'val'\n",
    "test['label'] = 'test'"
   ]
  },
  {
   "cell_type": "code",
   "execution_count": 21,
   "metadata": {},
   "outputs": [],
   "source": [
    "data_split = pd.concat([train, val, test])"
   ]
  },
  {
   "cell_type": "code",
   "execution_count": 24,
   "metadata": {},
   "outputs": [],
   "source": [
    "data_split.to_csv(root_path+\"physprop_mutate.csv\")"
   ]
  }
 ],
 "metadata": {
  "kernelspec": {
   "display_name": "Python 3 (ipykernel)",
   "language": "python",
   "name": "python3"
  },
  "language_info": {
   "codemirror_mode": {
    "name": "ipython",
    "version": 3
   },
   "file_extension": ".py",
   "mimetype": "text/x-python",
   "name": "python",
   "nbconvert_exporter": "python",
   "pygments_lexer": "ipython3",
   "version": "3.8.12"
  }
 },
 "nbformat": 4,
 "nbformat_minor": 4
}
